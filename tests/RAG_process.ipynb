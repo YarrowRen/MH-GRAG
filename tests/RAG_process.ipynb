{
 "cells": [
  {
   "cell_type": "code",
   "execution_count": 1,
   "metadata": {},
   "outputs": [
    {
     "name": "stdout",
     "output_type": "stream",
     "text": [
      "/Users/boyuren/Documents/multi_head_graph_rag/MH-GRAG-V1/tests\n",
      "/Users/boyuren/Documents/multi_head_graph_rag/MH-GRAG-V1\n"
     ]
    }
   ],
   "source": [
    "import os\n",
    "print(os.getcwd())\n",
    "os.chdir('/Users/boyuren/Documents/multi_head_graph_rag/MH-GRAG-V1')\n",
    "print(os.getcwd())"
   ]
  },
  {
   "cell_type": "markdown",
   "metadata": {},
   "source": [
    "# 测试整体RAG查询流程"
   ]
  },
  {
   "cell_type": "code",
   "execution_count": null,
   "metadata": {},
   "outputs": [],
   "source": [
    "# 数据加载\n",
    "\n",
    "import pandas as pd\n",
    "from src.utils.embedding_utils import load_df_from_csv_with_embedding\n",
    "from src.utils.config import OUTPUT_PATH\n",
    "\n",
    "entities_with_embeddings=load_df_from_csv_with_embedding(f\"{OUTPUT_PATH}/multihop_rag/final_entities_with_embeddings_by_chatgpt4o.csv\",['entity_embedding'])\n",
    "entities_with_clusters=pd.read_csv(\"export/multihop_rag/filtered_entities_cluster_reults.csv\")\n",
    "relationships=pd.read_csv(\"export/multihop_rag/filtered_relationships_with_duplicates.csv\")"
   ]
  },
  {
   "cell_type": "code",
   "execution_count": 6,
   "metadata": {},
   "outputs": [
    {
     "data": {
      "text/html": [
       "<div>\n",
       "<style scoped>\n",
       "    .dataframe tbody tr th:only-of-type {\n",
       "        vertical-align: middle;\n",
       "    }\n",
       "\n",
       "    .dataframe tbody tr th {\n",
       "        vertical-align: top;\n",
       "    }\n",
       "\n",
       "    .dataframe thead th {\n",
       "        text-align: right;\n",
       "    }\n",
       "</style>\n",
       "<table border=\"1\" class=\"dataframe\">\n",
       "  <thead>\n",
       "    <tr style=\"text-align: right;\">\n",
       "      <th></th>\n",
       "      <th>entity_name</th>\n",
       "      <th>entity_type</th>\n",
       "      <th>description</th>\n",
       "      <th>entity_id</th>\n",
       "      <th>corpus_id</th>\n",
       "      <th>entity_embedding</th>\n",
       "      <th>similarity</th>\n",
       "    </tr>\n",
       "  </thead>\n",
       "  <tbody>\n",
       "    <tr>\n",
       "      <th>3904</th>\n",
       "      <td>TECHCRUNCH</td>\n",
       "      <td>ORGANIZATION</td>\n",
       "      <td>TechCrunch is a technology news website that r...</td>\n",
       "      <td>3904</td>\n",
       "      <td>406</td>\n",
       "      <td>[0.008506687358021736, -0.013194956816732883, ...</td>\n",
       "      <td>0.856984</td>\n",
       "    </tr>\n",
       "  </tbody>\n",
       "</table>\n",
       "</div>"
      ],
      "text/plain": [
       "     entity_name   entity_type  \\\n",
       "3904  TECHCRUNCH  ORGANIZATION   \n",
       "\n",
       "                                            description  entity_id  corpus_id  \\\n",
       "3904  TechCrunch is a technology news website that r...       3904        406   \n",
       "\n",
       "                                       entity_embedding  similarity  \n",
       "3904  [0.008506687358021736, -0.013194956816732883, ...    0.856984  "
      ]
     },
     "execution_count": 6,
     "metadata": {},
     "output_type": "execute_result"
    }
   ],
   "source": [
    "from src.utils.embedding_utils import find_k_nearest_entities\n",
    "\n",
    "\n",
    "# 获取查询嵌入\n",
    "query = \"Who is the figure associated with generative AI technology whose departure from OpenAI was considered shocking according to Fortune, and is also the subject of a prevailing theory suggesting a lack of full truthfulness with the board as reported by TechCrunch?\"\n",
    "\n",
    "# 查询最相近的 k 个实体\n",
    "k = 1\n",
    "nearest_entities = find_k_nearest_entities(query, entities_with_embeddings, k=k)\n",
    "nearest_entities"
   ]
  },
  {
   "cell_type": "code",
   "execution_count": 7,
   "metadata": {},
   "outputs": [
    {
     "name": "stdout",
     "output_type": "stream",
     "text": [
      "No related relationships found for entity_id 3904 in cluster 'multihead_leiden_cluster_head_1'. Skipping...\n",
      "No related relationships found for entity_id 3904 in cluster 'multihead_leiden_cluster_head_2'. Skipping...\n",
      "No related relationships found for entity_id 3904 in cluster 'multihead_leiden_cluster_head_3'. Skipping...\n",
      "Merged report saved to export/rag_test/merged_community_report_3904.json\n"
     ]
    }
   ],
   "source": [
    "from src.report.community_report import generate_and_merge_reports\n",
    "\n",
    "entity_id=nearest_entities[\"entity_id\"].iloc[0]\n",
    "\n",
    "merge_reports=generate_and_merge_reports(entity_id, entities_with_clusters, relationships, output_file=f'export/rag_test/merged_community_report_{entity_id}.json')"
   ]
  },
  {
   "cell_type": "code",
   "execution_count": 10,
   "metadata": {},
   "outputs": [],
   "source": [
    "from src.utils.message_templates import generate_query_template\n",
    "from src.utils.llm_helpers import call_llm_api\n",
    "import json\n",
    "\n",
    "# # 加载生成的社区报告\n",
    "# def load_report(file_path):\n",
    "#     \"\"\"\n",
    "#     加载 JSON 格式的社区报告。\n",
    "#     \"\"\"\n",
    "#     with open(file_path, 'r') as file:\n",
    "#         return json.load(file)\n",
    "# merge_reports= load_report('export/rag_test/merged_community_report.json')\n",
    "\n",
    "query_template=generate_query_template(query,merge_reports)\n",
    "answer=call_llm_api(query_template)"
   ]
  },
  {
   "cell_type": "code",
   "execution_count": 11,
   "metadata": {},
   "outputs": [
    {
     "name": "stdout",
     "output_type": "stream",
     "text": [
      "Answer: The figure associated with generative AI technology whose departure from OpenAI was considered shocking according to Fortune is Sam Altman. He is also the subject of a prevailing theory suggesting a lack of full truthfulness with the board as reported by TechCrunch.\n",
      "Used Findings: [1, 3]\n"
     ]
    }
   ],
   "source": [
    "import json\n",
    "\n",
    "def parse_llm_answer(answer):\n",
    "    \"\"\"\n",
    "    解析 LLM 返回的 JSON 格式答案，并提取其中的内容。\n",
    "    \n",
    "    参数：\n",
    "        answer (str): LLM 返回的 JSON 字符串。\n",
    "\n",
    "    返回：\n",
    "        dict: 包含解析后的答案和所用发现编号。\n",
    "    \"\"\"\n",
    "    try:\n",
    "        # 清理字符串，去除外部的 ```json ``` 包裹\n",
    "        cleaned_answer = answer.strip(\"```\").replace(\"json\\n\", \"\")\n",
    "        \n",
    "        # 将字符串转换为 Python 字典\n",
    "        parsed_answer = json.loads(cleaned_answer)\n",
    "        \n",
    "        # 提取答案和所用发现\n",
    "        answer_text = parsed_answer.get(\"answer\", \"No answer found.\")\n",
    "        used_findings = parsed_answer.get(\"used_findings\", [])\n",
    "\n",
    "        return {\"answer\": answer_text, \"used_findings\": used_findings}\n",
    "    \n",
    "    except json.JSONDecodeError as e:\n",
    "        print(f\"JSONDecodeError: {e}\")\n",
    "        return None\n",
    "    \n",
    "parsed_result = parse_llm_answer(answer)\n",
    "\n",
    "if parsed_result:\n",
    "    print(\"Answer:\", parsed_result[\"answer\"])\n",
    "    print(\"Used Findings:\", parsed_result[\"used_findings\"])"
   ]
  }
 ],
 "metadata": {
  "kernelspec": {
   "display_name": "base",
   "language": "python",
   "name": "python3"
  },
  "language_info": {
   "codemirror_mode": {
    "name": "ipython",
    "version": 3
   },
   "file_extension": ".py",
   "mimetype": "text/x-python",
   "name": "python",
   "nbconvert_exporter": "python",
   "pygments_lexer": "ipython3",
   "version": "3.11.7"
  }
 },
 "nbformat": 4,
 "nbformat_minor": 2
}
