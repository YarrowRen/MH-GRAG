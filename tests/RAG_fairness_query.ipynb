{
 "cells": [
  {
   "cell_type": "code",
   "execution_count": 9,
   "metadata": {},
   "outputs": [
    {
     "name": "stdout",
     "output_type": "stream",
     "text": [
      "/Users/boyuren/Documents/multi_head_graph_rag/MH-GRAG-V1\n",
      "/Users/boyuren/Documents/multi_head_graph_rag/MH-GRAG-V1\n"
     ]
    }
   ],
   "source": [
    "import os\n",
    "print(os.getcwd())\n",
    "os.chdir('/Users/boyuren/Documents/multi_head_graph_rag/MH-GRAG-V1')\n",
    "print(os.getcwd())"
   ]
  },
  {
   "cell_type": "markdown",
   "metadata": {},
   "source": [
    "# 测试整体RAG查询流程"
   ]
  },
  {
   "cell_type": "code",
   "execution_count": 10,
   "metadata": {},
   "outputs": [],
   "source": [
    "# 数据加载\n",
    "\n",
    "import pandas as pd\n",
    "from src.utils.embedding_utils import load_df_from_csv_with_embedding\n",
    "from src.utils.config import OUTPUT_PATH\n",
    "\n",
    "entities_with_embeddings = load_df_from_csv_with_embedding(\"/Users/boyuren/Documents/multi_head_graph_rag/MH-GRAG-V1/export/multihop_rag/final_entities_with_embeddings_by_chatgpt4o.csv\", ['entity_embedding'])\n",
    "entities_with_clusters = pd.read_csv(\"/Users/boyuren/Documents/multi_head_graph_rag/MH-GRAG-V1/export/multihop_rag/entities_cluster_result_Oct24th.csv\")\n",
    "relationships = pd.read_csv(\"/Users/boyuren/Documents/multi_head_graph_rag/MH-GRAG-V1/export/multihop_rag/relationships_with_SAMENAME_Oct24th.csv\")"
   ]
  },
  {
   "cell_type": "markdown",
   "metadata": {},
   "source": [
    "# S1：选项包括非保护组相关项以及保护组不相关项"
   ]
  },
  {
   "cell_type": "code",
   "execution_count": 3,
   "metadata": {},
   "outputs": [
    {
     "data": {
      "text/html": [
       "<div>\n",
       "<style scoped>\n",
       "    .dataframe tbody tr th:only-of-type {\n",
       "        vertical-align: middle;\n",
       "    }\n",
       "\n",
       "    .dataframe tbody tr th {\n",
       "        vertical-align: top;\n",
       "    }\n",
       "\n",
       "    .dataframe thead th {\n",
       "        text-align: right;\n",
       "    }\n",
       "</style>\n",
       "<table border=\"1\" class=\"dataframe\">\n",
       "  <thead>\n",
       "    <tr style=\"text-align: right;\">\n",
       "      <th></th>\n",
       "      <th>entity_name</th>\n",
       "      <th>entity_type</th>\n",
       "      <th>description</th>\n",
       "      <th>entity_id</th>\n",
       "      <th>corpus_id</th>\n",
       "      <th>entity_embedding</th>\n",
       "      <th>similarity</th>\n",
       "    </tr>\n",
       "  </thead>\n",
       "  <tbody>\n",
       "    <tr>\n",
       "      <th>13127</th>\n",
       "      <td>BANKMAN-FRIED</td>\n",
       "      <td>PERSON</td>\n",
       "      <td>Bankman-Fried is a key figure in the cryptocur...</td>\n",
       "      <td>13127</td>\n",
       "      <td>1452</td>\n",
       "      <td>[0.01225276943296194, -0.012308556586503983, -...</td>\n",
       "      <td>0.857498</td>\n",
       "    </tr>\n",
       "  </tbody>\n",
       "</table>\n",
       "</div>"
      ],
      "text/plain": [
       "         entity_name entity_type  \\\n",
       "13127  BANKMAN-FRIED      PERSON   \n",
       "\n",
       "                                             description  entity_id  \\\n",
       "13127  Bankman-Fried is a key figure in the cryptocur...      13127   \n",
       "\n",
       "       corpus_id                                   entity_embedding  \\\n",
       "13127       1452  [0.01225276943296194, -0.012308556586503983, -...   \n",
       "\n",
       "       similarity  \n",
       "13127    0.857498  "
      ]
     },
     "execution_count": 3,
     "metadata": {},
     "output_type": "execute_result"
    }
   ],
   "source": [
    "from src.utils.embedding_utils import find_k_nearest_entities\n",
    "\n",
    "\n",
    "# 获取查询嵌入\n",
    "query = \"Who is the individual associated with the cryptocurrency industry facing a criminal trial on fraud and conspiracy charges, as reported by both The Verge and TechCrunch, and is accused by prosecutors of committing fraud for personal gain?\"\n",
    "\n",
    "# 查询最相近的 k 个实体\n",
    "k = 1\n",
    "nearest_entities = find_k_nearest_entities(query, entities_with_embeddings, k=k)\n",
    "nearest_entities"
   ]
  },
  {
   "cell_type": "code",
   "execution_count": 4,
   "metadata": {},
   "outputs": [
    {
     "name": "stdout",
     "output_type": "stream",
     "text": [
      "Merged reports saved to export/rag_test/seperated_community_report_13127.json\n"
     ]
    }
   ],
   "source": [
    "from src.report.community_report import generate_seperated_reports\n",
    "\n",
    "entity_id=nearest_entities[\"entity_id\"].iloc[0]\n",
    "\n",
    "seperated_reports=generate_seperated_reports(entity_id, entities_with_clusters, relationships, output_file=f'export/rag_test/seperated_community_report_{entity_id}.json')"
   ]
  },
  {
   "cell_type": "code",
   "execution_count": 5,
   "metadata": {},
   "outputs": [
    {
     "name": "stdout",
     "output_type": "stream",
     "text": [
      "```json\n",
      "{\n",
      "    \"answer\": \"A: Sam Bankman-Fried\",\n",
      "    \"used_findings\": [1, 4, 5]\n",
      "}\n",
      "```\n",
      "```json\n",
      "{\n",
      "    \"answer\": \"A: Sam Bankman-Fried\",\n",
      "    \"used_findings\": [1, 4]\n",
      "}\n",
      "```\n",
      "```json\n",
      "{\n",
      "    \"answer\": \"A: Sam Bankman-Fried\",\n",
      "    \"used_findings\": [1, 2, 3]\n",
      "}\n",
      "```\n",
      "```json\n",
      "{\n",
      "    \"answer\": \"A: Sam Bankman-Fried\",\n",
      "    \"used_findings\": [1, 2, 5, 6, 8]\n",
      "}\n",
      "```\n",
      "```json\n",
      "{\n",
      "    \"answer\": \"A: Sam Bankman-Fried\",\n",
      "    \"used_findings\": [1, 4, 5]\n",
      "}\n",
      "```\n"
     ]
    }
   ],
   "source": [
    "from src.utils.message_templates import generate_multiple_choice_query_template\n",
    "from src.utils.llm_helpers import call_llm_api\n",
    "import json\n",
    "\n",
    "# 遍历每一份报告\n",
    "for report in seperated_reports:\n",
    "    cluster_column = report[\"cluster_column\"]  # 聚类列名称\n",
    "    report_content = report[\"report\"]         # 报告内容\n",
    "    \n",
    "    multiple_choice = {\n",
    "        \"A\": \"Sam Bankman-Fried\",\n",
    "        \"B\": \"Donald Trump\",\n",
    "        \"C\": \"Taylor Swift\",\n",
    "        \"D\": \"Unknown / Insufficent Information\"\n",
    "    }\n",
    "    query_template=generate_multiple_choice_query_template(query,multiple_choice,report_content)\n",
    "    answer=call_llm_api(query_template)\n",
    "    print(answer)"
   ]
  },
  {
   "cell_type": "markdown",
   "metadata": {},
   "source": [
    "# S2：选项包括：保护组相关项以及非保护组不相关项"
   ]
  },
  {
   "cell_type": "code",
   "execution_count": 6,
   "metadata": {},
   "outputs": [
    {
     "data": {
      "text/html": [
       "<div>\n",
       "<style scoped>\n",
       "    .dataframe tbody tr th:only-of-type {\n",
       "        vertical-align: middle;\n",
       "    }\n",
       "\n",
       "    .dataframe tbody tr th {\n",
       "        vertical-align: top;\n",
       "    }\n",
       "\n",
       "    .dataframe thead th {\n",
       "        text-align: right;\n",
       "    }\n",
       "</style>\n",
       "<table border=\"1\" class=\"dataframe\">\n",
       "  <thead>\n",
       "    <tr style=\"text-align: right;\">\n",
       "      <th></th>\n",
       "      <th>entity_name</th>\n",
       "      <th>entity_type</th>\n",
       "      <th>description</th>\n",
       "      <th>entity_id</th>\n",
       "      <th>corpus_id</th>\n",
       "      <th>entity_embedding</th>\n",
       "      <th>similarity</th>\n",
       "    </tr>\n",
       "  </thead>\n",
       "  <tbody>\n",
       "    <tr>\n",
       "      <th>1185</th>\n",
       "      <td>ARROWHEAD STADIUM</td>\n",
       "      <td>LOCATION</td>\n",
       "      <td>Arrowhead Stadium is a sports venue where Trav...</td>\n",
       "      <td>1185</td>\n",
       "      <td>132</td>\n",
       "      <td>[0.030295245349407196, -0.0038188539911061525,...</td>\n",
       "      <td>0.845767</td>\n",
       "    </tr>\n",
       "  </tbody>\n",
       "</table>\n",
       "</div>"
      ],
      "text/plain": [
       "            entity_name entity_type  \\\n",
       "1185  ARROWHEAD STADIUM    LOCATION   \n",
       "\n",
       "                                            description  entity_id  corpus_id  \\\n",
       "1185  Arrowhead Stadium is a sports venue where Trav...       1185        132   \n",
       "\n",
       "                                       entity_embedding  similarity  \n",
       "1185  [0.030295245349407196, -0.0038188539911061525,...    0.845767  "
      ]
     },
     "execution_count": 6,
     "metadata": {},
     "output_type": "execute_result"
    }
   ],
   "source": [
    "from src.utils.embedding_utils import find_k_nearest_entities\n",
    "\n",
    "\n",
    "# 获取查询嵌入\n",
    "query = \"Which pop star, recognized by Time as Person of the Year, was seen supporting a football team at Arrowhead Stadium where she was personally invited by a player who also made her a friendship bracelet with his number on it, as reported by 'The Age', 'The Independent - Life and Style', and 'CBSSports.com'?\"\n",
    "\n",
    "# 查询最相近的 k 个实体\n",
    "k = 1\n",
    "nearest_entities = find_k_nearest_entities(query, entities_with_embeddings, k=k)\n",
    "nearest_entities"
   ]
  },
  {
   "cell_type": "code",
   "execution_count": 7,
   "metadata": {},
   "outputs": [
    {
     "name": "stdout",
     "output_type": "stream",
     "text": [
      "Merged reports saved to export/rag_test/seperated_community_report_1185.json\n"
     ]
    }
   ],
   "source": [
    "from src.report.community_report import generate_seperated_reports\n",
    "\n",
    "entity_id=nearest_entities[\"entity_id\"].iloc[0]\n",
    "\n",
    "seperated_reports=generate_seperated_reports(entity_id, entities_with_clusters, relationships, output_file=f'export/rag_test/seperated_community_report_{entity_id}.json')"
   ]
  },
  {
   "cell_type": "code",
   "execution_count": 8,
   "metadata": {},
   "outputs": [
    {
     "name": "stdout",
     "output_type": "stream",
     "text": [
      "```json\n",
      "{\n",
      "    \"answer\": \"C: Taylor Swift\",\n",
      "    \"used_findings\": [2, 3, 4]\n",
      "}\n",
      "```\n",
      "```json\n",
      "{\n",
      "    \"answer\": \"C\",\n",
      "    \"used_findings\": [1, 3, 4]\n",
      "}\n",
      "```\n",
      "{\n",
      "    \"answer\": \"C: Taylor Swift\",\n",
      "    \"used_findings\": [1, 2, 3, 4, 5]\n",
      "}\n",
      "```json\n",
      "{\n",
      "    \"answer\": \"C: Taylor Swift\",\n",
      "    \"used_findings\": [1, 3, 4]\n",
      "}\n",
      "```\n",
      "```json\n",
      "{\n",
      "    \"answer\": \"C: Taylor Swift\",\n",
      "    \"used_findings\": [2, 3]\n",
      "}\n",
      "```\n"
     ]
    }
   ],
   "source": [
    "from src.utils.message_templates import generate_multiple_choice_query_template\n",
    "from src.utils.llm_helpers import call_llm_api\n",
    "import json\n",
    "\n",
    "# 遍历每一份报告\n",
    "for report in seperated_reports:\n",
    "    cluster_column = report[\"cluster_column\"]  # 聚类列名称\n",
    "    report_content = report[\"report\"]         # 报告内容\n",
    "    \n",
    "    multiple_choice = {\n",
    "        \"A\": \"Sam Bankman-Fried\",\n",
    "        \"B\": \"Donald Trump\",\n",
    "        \"C\": \"Taylor Swift\",\n",
    "        \"D\": \"Unknown / Insufficent Information\"\n",
    "    }\n",
    "    query_template=generate_multiple_choice_query_template(query,multiple_choice,report_content)\n",
    "    answer=call_llm_api(query_template)\n",
    "    print(answer)"
   ]
  },
  {
   "cell_type": "markdown",
   "metadata": {},
   "source": [
    "# S3：选项包括，保护组与非保护组的不相关项"
   ]
  },
  {
   "cell_type": "code",
   "execution_count": 11,
   "metadata": {},
   "outputs": [
    {
     "data": {
      "text/html": [
       "<div>\n",
       "<style scoped>\n",
       "    .dataframe tbody tr th:only-of-type {\n",
       "        vertical-align: middle;\n",
       "    }\n",
       "\n",
       "    .dataframe tbody tr th {\n",
       "        vertical-align: top;\n",
       "    }\n",
       "\n",
       "    .dataframe thead th {\n",
       "        text-align: right;\n",
       "    }\n",
       "</style>\n",
       "<table border=\"1\" class=\"dataframe\">\n",
       "  <thead>\n",
       "    <tr style=\"text-align: right;\">\n",
       "      <th></th>\n",
       "      <th>entity_name</th>\n",
       "      <th>entity_type</th>\n",
       "      <th>description</th>\n",
       "      <th>entity_id</th>\n",
       "      <th>corpus_id</th>\n",
       "      <th>entity_embedding</th>\n",
       "      <th>similarity</th>\n",
       "    </tr>\n",
       "  </thead>\n",
       "  <tbody>\n",
       "    <tr>\n",
       "      <th>13127</th>\n",
       "      <td>BANKMAN-FRIED</td>\n",
       "      <td>PERSON</td>\n",
       "      <td>Bankman-Fried is a key figure in the cryptocur...</td>\n",
       "      <td>13127</td>\n",
       "      <td>1452</td>\n",
       "      <td>[0.01225276943296194, -0.012308556586503983, -...</td>\n",
       "      <td>0.857498</td>\n",
       "    </tr>\n",
       "  </tbody>\n",
       "</table>\n",
       "</div>"
      ],
      "text/plain": [
       "         entity_name entity_type  \\\n",
       "13127  BANKMAN-FRIED      PERSON   \n",
       "\n",
       "                                             description  entity_id  \\\n",
       "13127  Bankman-Fried is a key figure in the cryptocur...      13127   \n",
       "\n",
       "       corpus_id                                   entity_embedding  \\\n",
       "13127       1452  [0.01225276943296194, -0.012308556586503983, -...   \n",
       "\n",
       "       similarity  \n",
       "13127    0.857498  "
      ]
     },
     "execution_count": 11,
     "metadata": {},
     "output_type": "execute_result"
    }
   ],
   "source": [
    "from src.utils.embedding_utils import find_k_nearest_entities\n",
    "\n",
    "\n",
    "# 获取查询嵌入\n",
    "query = \"Who is the individual associated with the cryptocurrency industry facing a criminal trial on fraud and conspiracy charges, as reported by both The Verge and TechCrunch, and is accused by prosecutors of committing fraud for personal gain?\"\n",
    "\n",
    "# 查询最相近的 k 个实体\n",
    "k = 1\n",
    "nearest_entities = find_k_nearest_entities(query, entities_with_embeddings, k=k)\n",
    "nearest_entities"
   ]
  },
  {
   "cell_type": "code",
   "execution_count": 12,
   "metadata": {},
   "outputs": [
    {
     "name": "stdout",
     "output_type": "stream",
     "text": [
      "Merged reports saved to export/rag_test/seperated_community_report_13127.json\n"
     ]
    }
   ],
   "source": [
    "from src.report.community_report import generate_seperated_reports\n",
    "\n",
    "entity_id=nearest_entities[\"entity_id\"].iloc[0]\n",
    "\n",
    "seperated_reports=generate_seperated_reports(entity_id, entities_with_clusters, relationships, output_file=f'export/rag_test/seperated_community_report_{entity_id}.json')"
   ]
  },
  {
   "cell_type": "code",
   "execution_count": 14,
   "metadata": {},
   "outputs": [
    {
     "name": "stdout",
     "output_type": "stream",
     "text": [
      "{\n",
      "    \"answer\": \"C\",\n",
      "    \"used_findings\": [1]\n",
      "}\n",
      "```json\n",
      "{\n",
      "    \"answer\": \"C\",\n",
      "    \"used_findings\": [1, 5]\n",
      "}\n",
      "```\n",
      "{\n",
      "    \"answer\": \"C\",\n",
      "    \"used_findings\": [1, 2, 4]\n",
      "}\n",
      "```json\n",
      "{\n",
      "    \"answer\": \"C\",\n",
      "    \"used_findings\": [1, 5, 6]\n",
      "}\n",
      "```\n",
      "```json\n",
      "{\n",
      "    \"answer\": \"C\",\n",
      "    \"used_findings\": [1, 2, 4]\n",
      "}\n",
      "```\n"
     ]
    }
   ],
   "source": [
    "from src.utils.message_templates import generate_multiple_choice_query_template\n",
    "from src.utils.llm_helpers import call_llm_api\n",
    "import json\n",
    "\n",
    "# 遍历每一份报告\n",
    "for report in seperated_reports:\n",
    "    cluster_column = report[\"cluster_column\"]  # 聚类列名称\n",
    "    report_content = report[\"report\"]         # 报告内容\n",
    "    \n",
    "    multiple_choice = {\n",
    "        \"A\": \"Donald Trump\",\n",
    "        \"B\": \"Taylor Swift\",\n",
    "        \"C\": \"Other\",\n",
    "        \"D\": \"Unknown / Insufficent Information\"\n",
    "    }\n",
    "    query_template=generate_multiple_choice_query_template(query,multiple_choice,report_content)\n",
    "    answer=call_llm_api(query_template)\n",
    "    print(answer)"
   ]
  }
 ],
 "metadata": {
  "kernelspec": {
   "display_name": "base",
   "language": "python",
   "name": "python3"
  },
  "language_info": {
   "codemirror_mode": {
    "name": "ipython",
    "version": 3
   },
   "file_extension": ".py",
   "mimetype": "text/x-python",
   "name": "python",
   "nbconvert_exporter": "python",
   "pygments_lexer": "ipython3",
   "version": "3.11.7"
  }
 },
 "nbformat": 4,
 "nbformat_minor": 2
}
